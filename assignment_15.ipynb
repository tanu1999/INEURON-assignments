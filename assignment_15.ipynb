{
 "cells": [
  {
   "cell_type": "code",
   "execution_count": null,
   "id": "69a41084",
   "metadata": {},
   "outputs": [],
   "source": [
    "1.How many seconds are in an hour? Use the interactive interpreter as a calculator and\n",
    "multiply the number of seconds in a minute (60) by the number of minutes in an hour (also 60).\n"
   ]
  },
  {
   "cell_type": "code",
   "execution_count": 1,
   "id": "b59624df",
   "metadata": {},
   "outputs": [
    {
     "name": "stdout",
     "output_type": "stream",
     "text": [
      "3600\n"
     ]
    }
   ],
   "source": [
    "print(60*60)\n"
   ]
  },
  {
   "cell_type": "code",
   "execution_count": null,
   "id": "1336f6bc",
   "metadata": {},
   "outputs": [],
   "source": [
    "2. Assign the result from the previous task (seconds in an hour) to a variable called seconds_per_hour.\n"
   ]
  },
  {
   "cell_type": "code",
   "execution_count": 2,
   "id": "a0226fd9",
   "metadata": {},
   "outputs": [
    {
     "name": "stdout",
     "output_type": "stream",
     "text": [
      "3600\n"
     ]
    }
   ],
   "source": [
    "seconds_per_hour = 60*60\n",
    "print(seconds_per_hour)"
   ]
  },
  {
   "cell_type": "code",
   "execution_count": null,
   "id": "5e5499df",
   "metadata": {},
   "outputs": [],
   "source": [
    "3. How many seconds do you think there are in a day? Make use of the variables seconds per hour and minutes per hour."
   ]
  },
  {
   "cell_type": "code",
   "execution_count": 3,
   "id": "5c6a1c73",
   "metadata": {},
   "outputs": [
    {
     "name": "stdout",
     "output_type": "stream",
     "text": [
      "86400\n"
     ]
    }
   ],
   "source": [
    "minutes_per_hour = 60\n",
    "print(seconds_per_hour*24)"
   ]
  },
  {
   "cell_type": "code",
   "execution_count": null,
   "id": "7e7d073f",
   "metadata": {},
   "outputs": [],
   "source": [
    "4. Calculate seconds per day again, but this time save the result in a variable called seconds_per_day\n"
   ]
  },
  {
   "cell_type": "code",
   "execution_count": 4,
   "id": "07cda261",
   "metadata": {},
   "outputs": [
    {
     "name": "stdout",
     "output_type": "stream",
     "text": [
      "86400\n"
     ]
    }
   ],
   "source": [
    "seconds_per_day = 24*60*60\n",
    "print(seconds_per_day)"
   ]
  },
  {
   "cell_type": "code",
   "execution_count": null,
   "id": "59d230b8",
   "metadata": {},
   "outputs": [],
   "source": [
    "5. Divide seconds_per_day by seconds_per_hour. Use floating-point (/) division."
   ]
  },
  {
   "cell_type": "code",
   "execution_count": 5,
   "id": "0a88780a",
   "metadata": {},
   "outputs": [
    {
     "name": "stdout",
     "output_type": "stream",
     "text": [
      "24.0\n"
     ]
    }
   ],
   "source": [
    "print(seconds_per_day/seconds_per_hour)"
   ]
  },
  {
   "cell_type": "code",
   "execution_count": null,
   "id": "8fbf2bd9",
   "metadata": {},
   "outputs": [],
   "source": [
    "6. Divide seconds_per_day by seconds_per_hour, using integer (//) division.\n",
    "Did this number agree with the floating-point value from the previous question, aside from the final .0?\n"
   ]
  },
  {
   "cell_type": "code",
   "execution_count": 6,
   "id": "155f938b",
   "metadata": {},
   "outputs": [
    {
     "name": "stdout",
     "output_type": "stream",
     "text": [
      "24 -> yes this values agree with the floating point value from the previous question\n"
     ]
    }
   ],
   "source": [
    "print(seconds_per_day//seconds_per_hour, end='')\n",
    "print(' -> yes this values agree with the floating point value from the previous question')"
   ]
  },
  {
   "cell_type": "code",
   "execution_count": null,
   "id": "1ca74eea",
   "metadata": {},
   "outputs": [],
   "source": [
    "7. Write a generator, genPrimes, that returns the sequence of prime numbers on successive calls to its next() method: 2, 3, 5, 7, 11, ..."
   ]
  },
  {
   "cell_type": "code",
   "execution_count": 7,
   "id": "735f866e",
   "metadata": {},
   "outputs": [
    {
     "name": "stdout",
     "output_type": "stream",
     "text": [
      "2\n",
      "3\n",
      "5\n",
      "7\n",
      "11\n"
     ]
    }
   ],
   "source": [
    "def genPrimes():\n",
    "    n = 0\n",
    "    while True:\n",
    "        if n == 2 or n == 3 :\n",
    "            yield n\n",
    "        elif ((n-1)%6 == 0 or (n+1)%6 == 0) and n !=1:\n",
    "            yield n\n",
    "        n = n+1\n",
    "        \n",
    "output = genPrimes()\n",
    "for ele in range(5):\n",
    "    print(next(output))"
   ]
  },
  {
   "cell_type": "code",
   "execution_count": null,
   "id": "b3976476",
   "metadata": {},
   "outputs": [],
   "source": []
  }
 ],
 "metadata": {
  "kernelspec": {
   "display_name": "Python 3 (ipykernel)",
   "language": "python",
   "name": "python3"
  },
  "language_info": {
   "codemirror_mode": {
    "name": "ipython",
    "version": 3
   },
   "file_extension": ".py",
   "mimetype": "text/x-python",
   "name": "python",
   "nbconvert_exporter": "python",
   "pygments_lexer": "ipython3",
   "version": "3.9.13"
  }
 },
 "nbformat": 4,
 "nbformat_minor": 5
}
