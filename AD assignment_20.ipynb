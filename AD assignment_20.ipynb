{
 "cells": [
  {
   "cell_type": "code",
   "execution_count": null,
   "id": "5885dc37",
   "metadata": {},
   "outputs": [],
   "source": [
    "1. Compare and contrast the float and Decimal classes' benefits and drawbacks ?\n",
    "Ans: Both the float and decimal types store numerical values in Python.\n",
    "\n",
    "    Use floats when convenience and speed matter. A float gives you an approximation of the number you declare.\n",
    "\n",
    "    Use decimals when precision matters. Decimals can suffer from their own precision issues, but generally,\n",
    "    decimals are more precise than floats. The performance difference between float and decimal, with Python 3,\n",
    "    is not outlandish, and in my experience, the precision benefits of a decimal outweigh the performance benefits of a float.\n",
    "\n",
    "2. Decimal('1.200') and Decimal('1.2') are two objects to consider. In what sense are these the same object?\n",
    "  Are these just two ways of representing the exact same value, or do they correspond to different internal states ?\n",
    "Ans: Both values are same but internal representation at storage Is different. Precsion differs, Decimal('1.200') gives \n",
    "     internally 1.200 and Decimal('1.2') gives 1.2.\n",
    "\n",
    "3. What happens if the equality of Decimal('1.200') and Decimal('1.2') is checked ?\n",
    "Ans: Both values are checked to be equal , they only differ in precision.\n",
    "\n",
    "4. Why is it preferable to start a Decimal object with a string rather than a floating-point value ?\n",
    "Ans: Floating-point value is converted to Decimal format. Decimal can store float value with absolute precision.\n",
    "     But when float value is given as Decimal object,it first has to be converted from floating point value which might \n",
    "     already have rounding error.\n",
    "\n",
    "     Hence it is preferable to start a Decimal object with a string.\n",
    "\n",
    "5. In an arithmetic phrase, how simple is it to combine Decimal objects with integers ?\n",
    "Ans: We can do it with use of Decimal().\n",
    "\n",
    "6. Can Decimal objects and floating-point values be combined easily ?\n",
    "Ans: Arithmetic operfations like Adding,subtracting or multiplying a Decimal object by a floating-point value is generates \n",
    "     an error.\n",
    "\n",
    "     To do these operations, the floating point has to be converted to a Decimal.\n",
    "\n",
    "7. Using the Fraction class but not the Decimal class, give an example of a quantity that can be expressed with absolute \n",
    "   precision ?\n",
    "Ans: Value of 0.5 will be represented as ½.\n",
    "\n",
    "8.Consider the following two fraction objects: Fraction(1, 2) and Fraction(1, 2). (5, 10). Is the internal state of these two\n",
    "    objects the same? Why do you think that is ?\n",
    "Ans: Both will be reduced to 1/2\n",
    "\n",
    "9. How do the Fraction class and the integer type (int) relate to each other? Containment or inheritance ?\n",
    "Ans: Fraction class and integer type(int) are related in form of a container.It contains two ints, one the numerator and \n",
    "     the other the denominator"
   ]
  }
 ],
 "metadata": {
  "kernelspec": {
   "display_name": "Python 3 (ipykernel)",
   "language": "python",
   "name": "python3"
  },
  "language_info": {
   "codemirror_mode": {
    "name": "ipython",
    "version": 3
   },
   "file_extension": ".py",
   "mimetype": "text/x-python",
   "name": "python",
   "nbconvert_exporter": "python",
   "pygments_lexer": "ipython3",
   "version": "3.9.13"
  }
 },
 "nbformat": 4,
 "nbformat_minor": 5
}
