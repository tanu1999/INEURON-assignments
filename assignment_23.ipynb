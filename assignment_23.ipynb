{
 "cells": [
  {
   "cell_type": "code",
   "execution_count": null,
   "id": "deaf5a8b",
   "metadata": {},
   "outputs": [],
   "source": [
    "1. What is the result of the code, and why?\n",
    ">>> def func(a, b=6, c=8):\n",
    "print(a, b, c)\n",
    ">>> func(1, 2)\n",
    "Ans: The result of the above code is 1 2 8. its because the function uses the default value of c \n",
    "    ie 8 which is provided at the time of declaration."
   ]
  },
  {
   "cell_type": "code",
   "execution_count": 1,
   "id": "7c41e09a",
   "metadata": {},
   "outputs": [
    {
     "name": "stdout",
     "output_type": "stream",
     "text": [
      "1 2 8\n"
     ]
    }
   ],
   "source": [
    "def func(a,b=6,c=8):\n",
    "    print(a,b,c)\n",
    "func(1,2)\n"
   ]
  },
  {
   "cell_type": "code",
   "execution_count": null,
   "id": "8f76e22f",
   "metadata": {},
   "outputs": [],
   "source": [
    "2. What is the result of this code, and why?\n",
    ">>> def func(a, b, c=5):\n",
    "print(a, b, c)\n",
    ">>> func(1, c=3, b=2)\n",
    "Ans: The result of the above code is 1 2 3. it is because the function will use default values only \n",
    "    when a value for a argument is not provided and if argument name is mentioned while doing a function call,\n",
    "    the order of arguments is also ignored by the python interpreter\n",
    "\n"
   ]
  },
  {
   "cell_type": "code",
   "execution_count": 2,
   "id": "34d0d7f7",
   "metadata": {},
   "outputs": [
    {
     "name": "stdout",
     "output_type": "stream",
     "text": [
      "1 2 3\n"
     ]
    }
   ],
   "source": [
    "def func(a,b,c=5):\n",
    "    print(a,b,c)\n",
    "func(1,c=3,b=2)"
   ]
  },
  {
   "cell_type": "code",
   "execution_count": null,
   "id": "ce1864f7",
   "metadata": {},
   "outputs": [],
   "source": [
    "3. How about this code: what is its result, and why?\n",
    ">>> def func(a, *pargs):\n",
    "print(a, pargs)\n",
    ">>> func(1, 2, 3)\n",
    "Ans: The result of the code is 1 (2,3). *pargs stands for variable length arguments.\n",
    "    this format is used when we are not sure about the no of arguments to be passed to a function.\n",
    "    all the values under this argument will be stored in a tuple.\n",
    "\n"
   ]
  },
  {
   "cell_type": "code",
   "execution_count": 3,
   "id": "abf436ac",
   "metadata": {},
   "outputs": [
    {
     "name": "stdout",
     "output_type": "stream",
     "text": [
      "1 (2, 3)\n"
     ]
    }
   ],
   "source": [
    "def func(a, *pargs):\n",
    "    print(a,pargs)\n",
    "func(1,2,3)"
   ]
  },
  {
   "cell_type": "code",
   "execution_count": null,
   "id": "e9562c3a",
   "metadata": {},
   "outputs": [],
   "source": [
    "4. What does this code print, and why?\n",
    ">>> def func(a, **kargs):\n",
    "print(a, kargs)\n",
    ">>> func(a=1, c=3, b=2)\n",
    "Ans: The result of the above code is 1 {'c': 3, 'b': 2}. **args stands for variable length keyword arguments.\n",
    "    this format is used when we want pass key value pairs as input to a function.\n",
    "    All these key value pairs will be stored in a dictionary"
   ]
  },
  {
   "cell_type": "code",
   "execution_count": 4,
   "id": "22dcb509",
   "metadata": {},
   "outputs": [
    {
     "name": "stdout",
     "output_type": "stream",
     "text": [
      "1 {'c': 3, 'b': 2}\n"
     ]
    }
   ],
   "source": [
    "def func(a,**kargs):\n",
    "    print(a,kargs)\n",
    "func(a=1,c=3,b=2)"
   ]
  },
  {
   "cell_type": "code",
   "execution_count": null,
   "id": "60fe350e",
   "metadata": {},
   "outputs": [],
   "source": [
    "5. What gets printed by this, and explain?\n",
    ">>> def func(a, b, c=8, d=5): print(a, b, c, d)\n",
    ">>> func(1, *(5, 6))\n",
    "Ans: The output of the above is 1 5 6 5. This reason for this function not throwing an error is because,\n",
    "    this function expects 4 arguments. the value for a is provided explicitly whereas for arguments b and c,\n",
    "    the function will expand the *(5,6) and consider the value of b as 5 and value of c as 6. since the default value of d\n",
    "    is provided in function declaration d value will be 5. However it is recommended to use the feature of positional arguments at the end.\n",
    "\n"
   ]
  },
  {
   "cell_type": "code",
   "execution_count": 5,
   "id": "517bd0a0",
   "metadata": {},
   "outputs": [
    {
     "name": "stdout",
     "output_type": "stream",
     "text": [
      "1 5 6 5\n"
     ]
    }
   ],
   "source": [
    "def func(a,b,c=8,d=5):\n",
    "    print(a,b,c,d)\n",
    "func(1,*(5,6))"
   ]
  },
  {
   "cell_type": "code",
   "execution_count": null,
   "id": "ae789e58",
   "metadata": {},
   "outputs": [],
   "source": [
    "6. what is the result of this, and explain?\n",
    ">>> def func(a, b, c): a = 2; b[0] = 'x'; c['a'] = 'y'\n",
    ">>> l=1; m=[1]; n={'a':0}\n",
    ">>> func(l, m, n)\n",
    ">>> l, m, n\n",
    "Ans: The output of above code is 1, ['x'], {'a': 'y'}.\n",
    "\n",
    "Eventhough Python gives importance to indentation. its provides a facility to declare an entire function \n",
    "in one single line. where statements in a function body are sepereated by ;\n",
    "When l,m,n are provided as inputs to the function. its modifies the values of l,m,n and sets the value of l=2 ,\n",
    "m=['x'] and n={'a':'y'}"
   ]
  },
  {
   "cell_type": "code",
   "execution_count": 6,
   "id": "ded10401",
   "metadata": {},
   "outputs": [
    {
     "data": {
      "text/plain": [
       "(1, ['x'], {'a': 'y'})"
      ]
     },
     "execution_count": 6,
     "metadata": {},
     "output_type": "execute_result"
    }
   ],
   "source": [
    "def func(a, b, c): a = 2; b[0] = 'x'; c['a'] = 'y'\n",
    "l=1; m=[1]; n={'a':0}\n",
    "func(l, m, n)\n",
    "l,m,n"
   ]
  },
  {
   "cell_type": "code",
   "execution_count": null,
   "id": "a69cde4e",
   "metadata": {},
   "outputs": [],
   "source": []
  }
 ],
 "metadata": {
  "kernelspec": {
   "display_name": "Python 3 (ipykernel)",
   "language": "python",
   "name": "python3"
  },
  "language_info": {
   "codemirror_mode": {
    "name": "ipython",
    "version": 3
   },
   "file_extension": ".py",
   "mimetype": "text/x-python",
   "name": "python",
   "nbconvert_exporter": "python",
   "pygments_lexer": "ipython3",
   "version": "3.9.13"
  }
 },
 "nbformat": 4,
 "nbformat_minor": 5
}
