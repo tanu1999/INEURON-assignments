{
 "cells": [
  {
   "cell_type": "code",
   "execution_count": null,
   "id": "9b806230",
   "metadata": {},
   "outputs": [],
   "source": [
    "Q1. Explain the difference between greedy and non-greedy syntax with visual terms in as few words as possible.\n",
    "What is the bare minimum effort required to transform a greedy pattern into a non-greedy one?\n",
    "What characters or characters can you introduce or change?\n",
    "Ans: The Main difference between Greedy and Non Greedy Match Syntax is The Greedy Match will try to match as many repetitions\n",
    "    of the quantified pattern as possible Whereas The Non Greedy Match will try to match as few repetitions of the quantified\n",
    "    pattern as possible\n",
    "\n"
   ]
  },
  {
   "cell_type": "code",
   "execution_count": 1,
   "id": "328ed6ed",
   "metadata": {},
   "outputs": [
    {
     "name": "stdout",
     "output_type": "stream",
     "text": [
      "['vvvvvv', '']\n",
      "['', 'v', '', 'v', '', 'v', '', 'v', '', 'v', '', 'v', '']\n"
     ]
    }
   ],
   "source": [
    "import re\n",
    "print(re.findall(\"v*\", \"vvvvvv\")) # Greedy Match Synatx\n",
    "print(re.findall(\"v*?\", \"vvvvvv\")) # Non Greddy Syntax\n"
   ]
  },
  {
   "cell_type": "code",
   "execution_count": null,
   "id": "4c568774",
   "metadata": {},
   "outputs": [],
   "source": [
    "Q2. When exactly does greedy versus non-greedy make a difference?\n",
    "    What if you're looking for a non-greedy match but the only one available is greedy?\n",
    "Ans: The Greedy Match will try to match as many repetitions of the quantified pattern as possible.\n",
    "     The Non Greedy Match will try to match as few repetitions of the quantified pattern as possible.\n",
    "     If only Non Greedy Match is available, we can use other filtering or pattern matching methods of regex and further\n",
    "     identify the required pattern.\n",
    "\n"
   ]
  },
  {
   "cell_type": "code",
   "execution_count": null,
   "id": "436ae1e7",
   "metadata": {},
   "outputs": [],
   "source": [
    "Q3. In a simple match of a string, which looks only for one match and does not do any replacement,\n",
    "    is the use of a nontagged group likely to make any practical difference?\n",
    "Ans: In this Case The Non Tagged Group will not make any diffrence in this case.\n",
    "\n"
   ]
  },
  {
   "cell_type": "code",
   "execution_count": 2,
   "id": "0ce7b5cf",
   "metadata": {},
   "outputs": [
    {
     "name": "stdout",
     "output_type": "stream",
     "text": [
      "Phone number found -> 234\n",
      "Phone number found -> 234\n"
     ]
    }
   ],
   "source": [
    "import re\n",
    "phoneNumRegex = re.compile(r'\\d\\d\\d')\n",
    "num = phoneNumRegex.search('My number is 234-567-8901.')\n",
    "print(f'Phone number found -> {num.group()}') # Non Tagged group\n",
    "print(f'Phone number found -> {num.group(0)}') # Tagged Group\n"
   ]
  },
  {
   "cell_type": "code",
   "execution_count": null,
   "id": "3ed35fa0",
   "metadata": {},
   "outputs": [],
   "source": [
    "Q4. Describe a scenario in which using a nontagged category would have a significant impact on the program's outcomes ?\n",
    "Ans: Here in the below Code Snippet . decimal is not tagged or captured. It will useful in scenarios where the separator\n",
    "     of value in a string is of no use and we need to capture only the values."
   ]
  },
  {
   "cell_type": "code",
   "execution_count": 3,
   "id": "e1bc5fad",
   "metadata": {},
   "outputs": [
    {
     "data": {
      "text/plain": [
       "('135', '456')"
      ]
     },
     "execution_count": 3,
     "metadata": {},
     "output_type": "execute_result"
    }
   ],
   "source": [
    "import re\n",
    "text='135.456'\n",
    "pattern=r'(\\d+)(?:.)(\\d+)'\n",
    "regobj=re.compile(pattern)\n",
    "matobj=regobj.search(text)\n",
    "matobj.groups()"
   ]
  },
  {
   "cell_type": "code",
   "execution_count": null,
   "id": "76a02577",
   "metadata": {},
   "outputs": [],
   "source": [
    "Q5. Unlike a normal regex pattern, a look-ahead condition does not consume the characters it examines.\n",
    "Describe a situation in which this could make a difference in the results of your programme ?\n",
    "Ans: While counting the number of multiple lines or mutiple sentence in a string the positive look ahead makes a difference,\n",
    "     without which we wont get the correct count of lines or sentences in a string.\n",
    "\n"
   ]
  },
  {
   "cell_type": "code",
   "execution_count": null,
   "id": "9bf184b6",
   "metadata": {},
   "outputs": [],
   "source": [
    "Q6. In standard expressions, what is the difference between positive look-ahead and negative look-ahead ?\n",
    "Ans: Positive Lookahead allows to add a condition for what follows. Negative Lookahead is similar, but it looks behind.\n",
    "    That is, it allows to match a pattern only if there’s something before it."
   ]
  },
  {
   "cell_type": "code",
   "execution_count": null,
   "id": "54da5d89",
   "metadata": {},
   "outputs": [],
   "source": [
    "Q7. What is the benefit of referring to groups by name rather than by number in a standard expression?\n",
    "Ans: Referring to groups by name rather than by number in a standard expression helps to keep the code clear and easy\n",
    "    to understand.\n",
    "\n"
   ]
  },
  {
   "cell_type": "code",
   "execution_count": null,
   "id": "feb2b5ba",
   "metadata": {},
   "outputs": [],
   "source": [
    "Q8. Can you identify repeated items within a target string using named groups, as in \"The cow jumped over the moon\"?\n"
   ]
  },
  {
   "cell_type": "code",
   "execution_count": 4,
   "id": "69735dcf",
   "metadata": {},
   "outputs": [
    {
     "data": {
      "text/plain": [
       "['The', 'the']"
      ]
     },
     "execution_count": 4,
     "metadata": {},
     "output_type": "execute_result"
    }
   ],
   "source": [
    "import re\n",
    "text = \"The cow jumped over the moon\"\n",
    "regobj=re.compile(r'(?P<w1>The)',re.I)\n",
    "regobj.findall(text)"
   ]
  },
  {
   "cell_type": "code",
   "execution_count": null,
   "id": "75703cf0",
   "metadata": {},
   "outputs": [],
   "source": [
    "Q9. When parsing a string, what is at least one thing that the Scanner interface does for you that the\n",
    "    re.findall feature does not ?\n",
    "Ans: re.findall() module is used to search for all occurrences that match a given pattern. In contrast,\n",
    "    re.search() will only return the first occurrence that matches the specified pattern. re.findall() will iterate over\n",
    "    all the lines of the file and will return all non-overlapping matches of pattern in a single step."
   ]
  },
  {
   "cell_type": "code",
   "execution_count": null,
   "id": "eb6a40c2",
   "metadata": {},
   "outputs": [],
   "source": [
    "Q10. Does a scanner object have to be named scanner?\n",
    "Ans: Yes, It may have any name."
   ]
  }
 ],
 "metadata": {
  "kernelspec": {
   "display_name": "Python 3 (ipykernel)",
   "language": "python",
   "name": "python3"
  },
  "language_info": {
   "codemirror_mode": {
    "name": "ipython",
    "version": 3
   },
   "file_extension": ".py",
   "mimetype": "text/x-python",
   "name": "python",
   "nbconvert_exporter": "python",
   "pygments_lexer": "ipython3",
   "version": "3.9.13"
  }
 },
 "nbformat": 4,
 "nbformat_minor": 5
}
