{
 "cells": [
  {
   "cell_type": "code",
   "execution_count": null,
   "id": "398219bb",
   "metadata": {},
   "outputs": [],
   "source": [
    "Q1. What is the meaning of multiple inheritance?\n",
    "Ans: Inheritence is nothing but reusing the code of Parent class by the child class.\n",
    "    Similary when a child class inherits its properties from multiple Parent classes this scenario is called Multiple Inheritence\n",
    "\n"
   ]
  },
  {
   "cell_type": "code",
   "execution_count": 1,
   "id": "31cdaa5d",
   "metadata": {},
   "outputs": [],
   "source": [
    "class Parent_one:\n",
    "    pass\n",
    "class Parent_two:\n",
    "    pass\n",
    "class child(Parent_one,Parent_two):\n",
    "    pass"
   ]
  },
  {
   "cell_type": "code",
   "execution_count": null,
   "id": "910bcc8b",
   "metadata": {},
   "outputs": [],
   "source": [
    "Q2. What is the concept of delegation?\n",
    "Ans: Delegation provides a proxy object for any class thay you want on top of the main class.\n",
    "     its like a wrapper to your class so that you can access limited resources of the main class.\n",
    "\n",
    "    it Wraps the object of main class into a smaller object with limited access\n",
    "\n",
    "    Simply Delegation means that you can include a instance of another class as an instance variable,\n",
    "    and forward messages to the instance.\n",
    "\n"
   ]
  },
  {
   "cell_type": "code",
   "execution_count": 2,
   "id": "63ced8f4",
   "metadata": {},
   "outputs": [
    {
     "name": "stdout",
     "output_type": "stream",
     "text": [
      "Hey iam back\n",
      "Hey iam back\n",
      "Hey iam back\n",
      "Iam the main class\n"
     ]
    }
   ],
   "source": [
    "class Myclass:\n",
    "    def sayHi(self):\n",
    "        print('Hey iam back')\n",
    "    def whoAmI(self):\n",
    "        print('Iam the main class')\n",
    "class NewClass:\n",
    "    def __init__(self,obj):\n",
    "        self.main = obj\n",
    "    def welcome(self):\n",
    "        self.main.sayHi()\n",
    "\n",
    "m = Myclass()        \n",
    "n = NewClass(m)\n",
    "m.sayHi()\n",
    "n.main.sayHi()\n",
    "n.welcome()\n",
    "n.main.whoAmI()\n"
   ]
  },
  {
   "cell_type": "code",
   "execution_count": null,
   "id": "1a508af8",
   "metadata": {},
   "outputs": [],
   "source": [
    "Q3. What is the concept of composition?\n",
    "Ans: In the concept of Composition, a class refers to one or more other classes by using instances of those classes \n",
    "    as a instance variable. irrespective of inheritence in this approach all the parent class members are not inherited\n",
    "    into child class, but only required methods from a class are used by using class instances.\n",
    "\n"
   ]
  },
  {
   "cell_type": "code",
   "execution_count": 3,
   "id": "1046791d",
   "metadata": {},
   "outputs": [
    {
     "name": "stdout",
     "output_type": "stream",
     "text": [
      "Total Salary : 9600\n"
     ]
    }
   ],
   "source": [
    "class Salary:\n",
    "    def __init__(self,pay):\n",
    "        self.pay = pay\n",
    "    def get_total(self):\n",
    "        return self.pay*12\n",
    "    \n",
    "class Employee:\n",
    "    def __init__(self,pay,bonus):\n",
    "        self.pay = pay\n",
    "        self.bonus = bonus\n",
    "        self.obj_salary = Salary(self.pay)\n",
    "    def annual_salary(self):\n",
    "        return f'Total Salary : {str(self.obj_salary.get_total())}'\n",
    "\n",
    "obj_emp = Employee(800,500)\n",
    "print(obj_emp.annual_salary())"
   ]
  },
  {
   "cell_type": "code",
   "execution_count": null,
   "id": "163619d0",
   "metadata": {},
   "outputs": [],
   "source": [
    "Q4. What are bound methods and how do we use them?\n",
    "Ans: If a function is an attribute of class and it is accessed via the instances, they are called bound methods.\n",
    "    A bound method is one that has self as its first argument. Since these are dependent on the instance of classes,\n",
    "    these are also known as instance methods."
   ]
  },
  {
   "cell_type": "code",
   "execution_count": 4,
   "id": "7958ac0d",
   "metadata": {},
   "outputs": [
    {
     "name": "stdout",
     "output_type": "stream",
     "text": [
      "Called method_one\n",
      "Called method_two\n",
      "Called method_two\n",
      "Called method_three\n"
     ]
    }
   ],
   "source": [
    "class Test:\n",
    "    def method_one(self): # bound method\n",
    "        print(\"Called method_one\")\n",
    "    @classmethod\n",
    "    def method_two(cls): # unbound method\n",
    "        print(\"Called method_two\")\n",
    "    @staticmethod\n",
    "    def method_three(): # static method\n",
    "        print(\"Called method_three\")\n",
    "\n",
    "test = Test()\n",
    "test.method_one() # accessing through instance object\n",
    "test.method_two() # accessing through instance object\n",
    "Test.method_two() # accessing directly through class\n",
    "Test.method_three() # accessing directly through class"
   ]
  },
  {
   "cell_type": "code",
   "execution_count": null,
   "id": "cba89251",
   "metadata": {},
   "outputs": [],
   "source": [
    "Q5. What is the purpose of pseudoprivate attributes?\n",
    "Ans: Pseudoprivate attributes are also useful in larger frameworks or tools, both to avoid introducing new method\n",
    "     names that might accidentally hide definitions elsewhere in the class tree and to reduce the chance of internal \n",
    "     methods being replaced by names defined lower in the tree. If a method is intended for use only within a class \n",
    "     that may be mixed into other classes, the double underscore prefix ensures that the method won't interfere with other\n",
    "     names in the tree, especially in multiple-inheritance scenarios\n",
    "\n",
    "     Pseudoprivate names also prevent subclasses from accidentally redefining the internal method's names,\n",
    "\n"
   ]
  },
  {
   "cell_type": "code",
   "execution_count": null,
   "id": "2d03d03d",
   "metadata": {},
   "outputs": [],
   "source": [
    "class Super:\n",
    "    def method(self): # A real application method\n",
    "        pass\n",
    "class Tool:\n",
    "    def _method(self): # becomes _Tool_method\n",
    "        pass\n",
    "    def other(self): # uses internal method\n",
    "        self._method()\n",
    "class Subl(Tool,Super):\n",
    "    def actions(self):\n",
    "        self.method()\n",
    "class Sub2(Tool):\n",
    "    def __init__(self):\n",
    "        self.method = 99"
   ]
  }
 ],
 "metadata": {
  "kernelspec": {
   "display_name": "Python 3 (ipykernel)",
   "language": "python",
   "name": "python3"
  },
  "language_info": {
   "codemirror_mode": {
    "name": "ipython",
    "version": 3
   },
   "file_extension": ".py",
   "mimetype": "text/x-python",
   "name": "python",
   "nbconvert_exporter": "python",
   "pygments_lexer": "ipython3",
   "version": "3.9.13"
  }
 },
 "nbformat": 4,
 "nbformat_minor": 5
}
