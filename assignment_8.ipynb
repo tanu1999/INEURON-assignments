{
 "cells": [
  {
   "cell_type": "code",
   "execution_count": null,
   "id": "04fe0c68",
   "metadata": {},
   "outputs": [],
   "source": [
    "1. Is the Python Standard Library included with PyInputPlus?\n",
    "Ans: No, PyInputPlus is not a part of Python Standard Library,\n",
    "     it needs to be installed explicitly using the command !pip install PyInputPlus\n",
    "\n",
    "2. Why is PyInputPlus commonly imported with import pyinputplus as pypi?\n",
    "Ans: You can import the module with import pyinputplus as pyip so that you can enter a shorter name \n",
    "     when calling the module's functions.\n",
    "\n",
    "3. How do you distinguish between inputInt() and inputFloat()?\n",
    "Ans: inputInt() function Accepts an integer value.\n",
    "     This also takes additional parameters min, max, greaterThan and lessThan for bounds.\n",
    "     And it always returns an int.\n",
    "\n",
    "     Whereas inputFloat() function Accepts a floating-point numeric value.\n",
    "     this also takes additional min, max, greaterThan and lessThan parameters. and always returns a float.\n",
    "\n",
    "4. Using PyInputPlus, how do you ensure that the user enters a whole number between 0 and 99?\n",
    "Ans: PyInputPlus module provides a function called as inputInt() which only returns only integer values. \n",
    "     inorder to restrict the input between 0 and 99, i'ii use parameters like min & max to ensure that\n",
    "     user enters the values between the defined range only.\n",
    "\n",
    "    import pyinputplus as pyip\n",
    "    wholenumber = pyip.inputInt(prompt='Enter a number: ', min=0, max=100)\n",
    "    print(wholenumber)\n",
    "\n",
    "5. What is transferred to the keyword arguments allowRegexes and blockRegexes?\n",
    "Ans: we can use allowRegexes and blockRegexes keyword arguments to take list of regular\n",
    "     expression strings to determine what the pyinputplus function will reject or accept valid input.\n",
    "\n",
    "6. If a blank input is entered three times, what does inputStr(limit=3) do?\n",
    "Ans: The statement inputStr(limit=3) will throw two exceptions ValidationException and RetryLimitException. \n",
    "    The first exception is thrown because blank values are not allowed by inputStr() function by default.\n",
    "    it we want to consider blank values as valid input, we have to set blank=True.\n",
    "\n",
    "   The second exception is occured because we have reached the max limit we have specified by using limit parameter.\n",
    "   inorder to avoid this exception we can use default parameter to return a default value when max limit is reached.\n",
    "\n",
    "7. If blank input is entered three times, what does inputStr(limit=3, default='hello') do?\n",
    "Ans: Since the default parameter is set to hello. after blank input is entered three times instead of raising \n",
    "    RetryLimitException exception. the function will return hello as response to the calling function"
   ]
  }
 ],
 "metadata": {
  "kernelspec": {
   "display_name": "Python 3 (ipykernel)",
   "language": "python",
   "name": "python3"
  },
  "language_info": {
   "codemirror_mode": {
    "name": "ipython",
    "version": 3
   },
   "file_extension": ".py",
   "mimetype": "text/x-python",
   "name": "python",
   "nbconvert_exporter": "python",
   "pygments_lexer": "ipython3",
   "version": "3.9.13"
  }
 },
 "nbformat": 4,
 "nbformat_minor": 5
}
